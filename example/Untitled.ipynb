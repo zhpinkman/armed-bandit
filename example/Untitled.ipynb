{
 "cells": [
  {
   "cell_type": "code",
   "execution_count": 1,
   "metadata": {},
   "outputs": [
    {
     "name": "stdout",
     "output_type": "stream",
     "text": [
      "{} -4.857722945275913 False {}\n",
      "1:\taction=3\n",
      "{} -4.1277409064259105 False {}\n",
      "2:\taction=3\n",
      "{} -4.875914450780493 False {}\n",
      "3:\taction=3\n",
      "{} 1.9717953938201012 False {}\n",
      "4:\taction=1\n",
      "{} 2.0198858834211992 False {}\n",
      "5:\taction=1\n",
      "{} 0.9800349916361316 False {}\n",
      "6:\taction=0\n",
      "{} -9.555488020186687 False {}\n",
      "7:\taction=2\n",
      "{} -5.069552501506542 False {}\n",
      "8:\taction=3\n",
      "{} 1.737646061368947 False {}\n",
      "9:\taction=1\n",
      "{} -9.769603586093737 True {}\n",
      "10:\taction=2\n"
     ]
    }
   ],
   "source": [
    "import numpy as np\n",
    "\n",
    "from amalearn.environment import MutliArmedBanditEnvironment\n",
    "from amalearn.reward import GaussianReward\n",
    "from amalearn.agent import RandomBanditAgent\n",
    "\n",
    "means = [1, 2, -10, -5]\n",
    "stds = [0.2, 0.1, 0.5, 0.4]\n",
    "\n",
    "rewards = [GaussianReward(mean, std) for mean, std in zip(means, stds)]\n",
    "env = MutliArmedBanditEnvironment(rewards, 10, '1')\n",
    "agent = RandomBanditAgent('1', env)\n",
    "\n",
    "for step in range(10):\n",
    "    agent.take_action()"
   ]
  }
 ],
 "metadata": {
  "kernelspec": {
   "display_name": "Python 3",
   "language": "python",
   "name": "python3"
  },
  "language_info": {
   "codemirror_mode": {
    "name": "ipython",
    "version": 3
   },
   "file_extension": ".py",
   "mimetype": "text/x-python",
   "name": "python",
   "nbconvert_exporter": "python",
   "pygments_lexer": "ipython3",
   "version": "3.8.2"
  }
 },
 "nbformat": 4,
 "nbformat_minor": 4
}
